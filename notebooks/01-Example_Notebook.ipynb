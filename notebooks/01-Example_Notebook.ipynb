{
 "cells": [
  {
   "cell_type": "markdown",
   "metadata": {},
   "source": [
    "# Example Notebook 1"
   ]
  },
  {
   "cell_type": "markdown",
   "metadata": {},
   "source": [
    "### The aim of the notebook is to show how to link the local file/document to files in Google Drive \n",
    "\n",
    "- Google drive for desktop is needed \n"
   ]
  },
  {
   "cell_type": "code",
   "execution_count": 1,
   "metadata": {},
   "outputs": [],
   "source": [
    "import os \n",
    "import sys \n",
    "\n",
    "Function_module  = '../Example_template/Example_template'\n",
    "# Add the parent directory of Example_template to the system path\n",
    "if os.path.exists(Function_module) == True:\n",
    "    sys.path.insert(0, os.path.abspath(Function_module))\n",
    "else :\n",
    "    print('The file does not exist')"
   ]
  },
  {
   "cell_type": "code",
   "execution_count": 2,
   "metadata": {},
   "outputs": [],
   "source": [
    "#import statements \n",
    "import config \n",
    "import custom_funcs \n",
    "\n"
   ]
  },
  {
   "cell_type": "code",
   "execution_count": 4,
   "metadata": {},
   "outputs": [],
   "source": [
    "### All outputs are saved: \n",
    "save_loc_fig = 'figures' # figures\n",
    "save_loc_df = '../data' # dataframes should be saved in cleaned, processd or raw"
   ]
  },
  {
   "cell_type": "markdown",
   "metadata": {},
   "source": [
    "# Find the experimental folders in Gooogle Drive"
   ]
  },
  {
   "cell_type": "code",
   "execution_count": 3,
   "metadata": {},
   "outputs": [],
   "source": [
    "# Google drive location \n",
    "experimental_dir = config.technical_dir_path\n",
    "# Google drive location for the skywriting raw data \n",
    "Test_Dire = os.path.join(experimental_dir,'Experiment_and_CaseStudies')\n"
   ]
  }
 ],
 "metadata": {
  "kernelspec": {
   "display_name": "DataAnalysis",
   "language": "python",
   "name": "python3"
  },
  "language_info": {
   "codemirror_mode": {
    "name": "ipython",
    "version": 3
   },
   "file_extension": ".py",
   "mimetype": "text/x-python",
   "name": "python",
   "nbconvert_exporter": "python",
   "pygments_lexer": "ipython3",
   "version": "3.12.8"
  }
 },
 "nbformat": 4,
 "nbformat_minor": 2
}
